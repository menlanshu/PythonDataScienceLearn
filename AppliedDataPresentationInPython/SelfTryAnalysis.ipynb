{
 "cells": [
  {
   "cell_type": "code",
   "execution_count": 1,
   "metadata": {},
   "outputs": [],
   "source": [
    "%matplotlib notebook\n",
    "%matplotlib inline\n",
    "import numpy as np\n",
    "import pandas as pd\n",
    "import matplotlib.pyplot as plt"
   ]
  },
  {
   "cell_type": "code",
   "execution_count": 3,
   "metadata": {},
   "outputs": [],
   "source": [
    "#df = pd.read_excel('3号线隧道烘箱点位汇总表-1.xlsx', sheet_name = 'IOS_MESHX3_AI_0001')"
   ]
  },
  {
   "cell_type": "code",
   "execution_count": 4,
   "metadata": {},
   "outputs": [
    {
     "data": {
      "text/html": [
       "<div>\n",
       "<style scoped>\n",
       "    .dataframe tbody tr th:only-of-type {\n",
       "        vertical-align: middle;\n",
       "    }\n",
       "\n",
       "    .dataframe tbody tr th {\n",
       "        vertical-align: top;\n",
       "    }\n",
       "\n",
       "    .dataframe thead th {\n",
       "        text-align: right;\n",
       "    }\n",
       "</style>\n",
       "<table border=\"1\" class=\"dataframe\">\n",
       "  <thead>\n",
       "    <tr style=\"text-align: right;\">\n",
       "      <th></th>\n",
       "      <th>IOS_MESHX3_AI_0001</th>\n",
       "      <th>Unnamed: 1</th>\n",
       "      <th>Unnamed: 2</th>\n",
       "    </tr>\n",
       "  </thead>\n",
       "  <tbody>\n",
       "    <tr>\n",
       "      <th>0</th>\n",
       "      <td>时间戳</td>\n",
       "      <td>数据质量</td>\n",
       "      <td>数据值</td>\n",
       "    </tr>\n",
       "    <tr>\n",
       "      <th>1</th>\n",
       "      <td>2020-03-01 00:00:00</td>\n",
       "      <td>Good</td>\n",
       "      <td>79.1382</td>\n",
       "    </tr>\n",
       "    <tr>\n",
       "      <th>2</th>\n",
       "      <td>2020-03-01 00:01:00</td>\n",
       "      <td>Good</td>\n",
       "      <td>79.044</td>\n",
       "    </tr>\n",
       "    <tr>\n",
       "      <th>3</th>\n",
       "      <td>2020-03-01 00:02:00</td>\n",
       "      <td>Good</td>\n",
       "      <td>78.9498</td>\n",
       "    </tr>\n",
       "    <tr>\n",
       "      <th>4</th>\n",
       "      <td>2020-03-01 00:03:00</td>\n",
       "      <td>Good</td>\n",
       "      <td>78.8556</td>\n",
       "    </tr>\n",
       "  </tbody>\n",
       "</table>\n",
       "</div>"
      ],
      "text/plain": [
       "    IOS_MESHX3_AI_0001 Unnamed: 1 Unnamed: 2\n",
       "0                  时间戳       数据质量        数据值\n",
       "1  2020-03-01 00:00:00       Good    79.1382\n",
       "2  2020-03-01 00:01:00       Good     79.044\n",
       "3  2020-03-01 00:02:00       Good    78.9498\n",
       "4  2020-03-01 00:03:00       Good    78.8556"
      ]
     },
     "execution_count": 4,
     "metadata": {},
     "output_type": "execute_result"
    }
   ],
   "source": [
    "#df.head(5)"
   ]
  },
  {
   "cell_type": "code",
   "execution_count": 2,
   "metadata": {},
   "outputs": [],
   "source": [
    "df = pd.read_excel('3号线隧道烘箱点位汇总表-1.xlsx', sheet_name = None)"
   ]
  },
  {
   "cell_type": "code",
   "execution_count": 6,
   "metadata": {},
   "outputs": [],
   "source": [
    "full_table = pd.DataFrame()"
   ]
  },
  {
   "cell_type": "code",
   "execution_count": 9,
   "metadata": {},
   "outputs": [],
   "source": [
    "#for name, sheet in sheets_dict.items():\n",
    "#    sheet['sheet'] = name\n",
    "#    sheet = sheet.rename(columns=lambda x: x.split('\\n')[-1])\n",
    "#    full_table = full_table.append(sheet)"
   ]
  },
  {
   "cell_type": "code",
   "execution_count": 35,
   "metadata": {},
   "outputs": [
    {
     "data": {
      "text/plain": [
       "30"
      ]
     },
     "execution_count": 35,
     "metadata": {},
     "output_type": "execute_result"
    }
   ],
   "source": [
    "sum(1 for _ in df.items())"
   ]
  },
  {
   "cell_type": "code",
   "execution_count": 37,
   "metadata": {},
   "outputs": [
    {
     "data": {
      "text/plain": [
       "dict_keys(['3号线隧道烘箱-储存点位44个', 'IOS_MESHX3_AI_0001', 'IOS_MESHX3_AI_0002', 'IOS_MESHX3_AI_0005', 'IOS_MESHX3_AI_0006  ', 'IOS_MESHX3_AI_0007', 'IOS_MESHX3_AI_0009', 'IOS_MESHX3_AI_0010', 'IOS_MESHX3_AI_0011  ', 'IOS_MESHX3_AI_0014', 'IOS_MESHX3_AI_0016', 'IOS_MESHX3_AI_0017', 'IOS_MESHX3_AI_0018', 'IOS_MESHX3_AI_0019', 'IOS_MESHX3_AI_0020', 'IOS_MESHX3_AI_0021', 'IOS_MESHX3_AI_0022', 'IOS_MESHX3_AI_0023', 'IOS_MESHX3_AI_0024', 'IOS_MESHX3_AI_0025', 'IOS_MESHX3_AI_0026', 'IOS_MESHX3_AI_0027', 'IOS_MESHX3_AI_0028', 'IOS_MESHX3_AI_0029', 'IOS_MESHX3_AI_0030', 'IOS_MESHX3_AI_0031', 'IOS_MESHX3_AI_0041', 'IOS_MESHX3_AI_0042', 'IOS_MESHX3_AI_0043', 'IOS_MESHX3_AI_0044'])"
      ]
     },
     "execution_count": 37,
     "metadata": {},
     "output_type": "execute_result"
    }
   ],
   "source": [
    "df.keys()"
   ]
  },
  {
   "cell_type": "code",
   "execution_count": 40,
   "metadata": {},
   "outputs": [],
   "source": [
    "firstSheet = df['IOS_MESHX3_AI_0001']"
   ]
  },
  {
   "cell_type": "code",
   "execution_count": 44,
   "metadata": {},
   "outputs": [
    {
     "data": {
      "text/html": [
       "<div>\n",
       "<style scoped>\n",
       "    .dataframe tbody tr th:only-of-type {\n",
       "        vertical-align: middle;\n",
       "    }\n",
       "\n",
       "    .dataframe tbody tr th {\n",
       "        vertical-align: top;\n",
       "    }\n",
       "\n",
       "    .dataframe thead th {\n",
       "        text-align: right;\n",
       "    }\n",
       "</style>\n",
       "<table border=\"1\" class=\"dataframe\">\n",
       "  <thead>\n",
       "    <tr style=\"text-align: right;\">\n",
       "      <th></th>\n",
       "      <th>IOS_MESHX3_AI_0001</th>\n",
       "      <th>Unnamed: 1</th>\n",
       "      <th>Unnamed: 2</th>\n",
       "    </tr>\n",
       "  </thead>\n",
       "  <tbody>\n",
       "    <tr>\n",
       "      <th>0</th>\n",
       "      <td>时间戳</td>\n",
       "      <td>数据质量</td>\n",
       "      <td>数据值</td>\n",
       "    </tr>\n",
       "    <tr>\n",
       "      <th>1</th>\n",
       "      <td>2020-03-01 00:00:00</td>\n",
       "      <td>Good</td>\n",
       "      <td>79.1382</td>\n",
       "    </tr>\n",
       "    <tr>\n",
       "      <th>2</th>\n",
       "      <td>2020-03-01 00:01:00</td>\n",
       "      <td>Good</td>\n",
       "      <td>79.044</td>\n",
       "    </tr>\n",
       "    <tr>\n",
       "      <th>3</th>\n",
       "      <td>2020-03-01 00:02:00</td>\n",
       "      <td>Good</td>\n",
       "      <td>78.9498</td>\n",
       "    </tr>\n",
       "    <tr>\n",
       "      <th>4</th>\n",
       "      <td>2020-03-01 00:03:00</td>\n",
       "      <td>Good</td>\n",
       "      <td>78.8556</td>\n",
       "    </tr>\n",
       "  </tbody>\n",
       "</table>\n",
       "</div>"
      ],
      "text/plain": [
       "    IOS_MESHX3_AI_0001 Unnamed: 1 Unnamed: 2\n",
       "0                  时间戳       数据质量        数据值\n",
       "1  2020-03-01 00:00:00       Good    79.1382\n",
       "2  2020-03-01 00:01:00       Good     79.044\n",
       "3  2020-03-01 00:02:00       Good    78.9498\n",
       "4  2020-03-01 00:03:00       Good    78.8556"
      ]
     },
     "execution_count": 44,
     "metadata": {},
     "output_type": "execute_result"
    }
   ],
   "source": [
    "firstSheet.head(5)"
   ]
  },
  {
   "cell_type": "code",
   "execution_count": 47,
   "metadata": {},
   "outputs": [],
   "source": [
    "firstSheet.columns = firstSheet.iloc[0]"
   ]
  },
  {
   "cell_type": "code",
   "execution_count": 62,
   "metadata": {},
   "outputs": [
    {
     "data": {
      "text/html": [
       "<div>\n",
       "<style scoped>\n",
       "    .dataframe tbody tr th:only-of-type {\n",
       "        vertical-align: middle;\n",
       "    }\n",
       "\n",
       "    .dataframe tbody tr th {\n",
       "        vertical-align: top;\n",
       "    }\n",
       "\n",
       "    .dataframe thead th {\n",
       "        text-align: right;\n",
       "    }\n",
       "</style>\n",
       "<table border=\"1\" class=\"dataframe\">\n",
       "  <thead>\n",
       "    <tr style=\"text-align: right;\">\n",
       "      <th></th>\n",
       "      <th>TIME</th>\n",
       "      <th>DATALABEL</th>\n",
       "      <th>IOS_MESHX3_AI_0001</th>\n",
       "    </tr>\n",
       "  </thead>\n",
       "  <tbody>\n",
       "    <tr>\n",
       "      <th>9</th>\n",
       "      <td>2020-03-01 00:08:00</td>\n",
       "      <td>Good</td>\n",
       "      <td>78.3846</td>\n",
       "    </tr>\n",
       "    <tr>\n",
       "      <th>10</th>\n",
       "      <td>2020-03-01 00:09:00</td>\n",
       "      <td>Good</td>\n",
       "      <td>78.2904</td>\n",
       "    </tr>\n",
       "    <tr>\n",
       "      <th>11</th>\n",
       "      <td>2020-03-01 00:10:00</td>\n",
       "      <td>Good</td>\n",
       "      <td>78.1962</td>\n",
       "    </tr>\n",
       "    <tr>\n",
       "      <th>12</th>\n",
       "      <td>2020-03-01 00:11:00</td>\n",
       "      <td>Good</td>\n",
       "      <td>78.1019</td>\n",
       "    </tr>\n",
       "    <tr>\n",
       "      <th>13</th>\n",
       "      <td>2020-03-01 00:12:00</td>\n",
       "      <td>Good</td>\n",
       "      <td>78.0077</td>\n",
       "    </tr>\n",
       "  </tbody>\n",
       "</table>\n",
       "</div>"
      ],
      "text/plain": [
       "0                  TIME DATALABEL IOS_MESHX3_AI_0001\n",
       "9   2020-03-01 00:08:00      Good            78.3846\n",
       "10  2020-03-01 00:09:00      Good            78.2904\n",
       "11  2020-03-01 00:10:00      Good            78.1962\n",
       "12  2020-03-01 00:11:00      Good            78.1019\n",
       "13  2020-03-01 00:12:00      Good            78.0077"
      ]
     },
     "execution_count": 62,
     "metadata": {},
     "output_type": "execute_result"
    }
   ],
   "source": [
    "firstSheet = firstSheet.drop(firstSheet.index[0])\n",
    "firstSheet = firstSheet.rename(columns={'时间戳':'TIME', '数据质量':'DATALABEL','数据值':'IOS_MESHX3_AI_0001'})\n",
    "firstSheet.head(5)"
   ]
  },
  {
   "cell_type": "code",
   "execution_count": 58,
   "metadata": {},
   "outputs": [
    {
     "data": {
      "text/html": [
       "<div>\n",
       "<style scoped>\n",
       "    .dataframe tbody tr th:only-of-type {\n",
       "        vertical-align: middle;\n",
       "    }\n",
       "\n",
       "    .dataframe tbody tr th {\n",
       "        vertical-align: top;\n",
       "    }\n",
       "\n",
       "    .dataframe thead th {\n",
       "        text-align: right;\n",
       "    }\n",
       "</style>\n",
       "<table border=\"1\" class=\"dataframe\">\n",
       "  <thead>\n",
       "    <tr style=\"text-align: right;\">\n",
       "      <th></th>\n",
       "      <th>时间戳</th>\n",
       "      <th>数据质量</th>\n",
       "      <th>数据值</th>\n",
       "    </tr>\n",
       "  </thead>\n",
       "  <tbody>\n",
       "    <tr>\n",
       "      <th>0</th>\n",
       "      <td>时间戳</td>\n",
       "      <td>数据质量</td>\n",
       "      <td>数据值</td>\n",
       "    </tr>\n",
       "    <tr>\n",
       "      <th>1</th>\n",
       "      <td>2020-03-01 00:00:00</td>\n",
       "      <td>Good</td>\n",
       "      <td>79.1382</td>\n",
       "    </tr>\n",
       "    <tr>\n",
       "      <th>2</th>\n",
       "      <td>2020-03-01 00:01:00</td>\n",
       "      <td>Good</td>\n",
       "      <td>79.044</td>\n",
       "    </tr>\n",
       "    <tr>\n",
       "      <th>3</th>\n",
       "      <td>2020-03-01 00:02:00</td>\n",
       "      <td>Good</td>\n",
       "      <td>78.9498</td>\n",
       "    </tr>\n",
       "    <tr>\n",
       "      <th>4</th>\n",
       "      <td>2020-03-01 00:03:00</td>\n",
       "      <td>Good</td>\n",
       "      <td>78.8556</td>\n",
       "    </tr>\n",
       "  </tbody>\n",
       "</table>\n",
       "</div>"
      ],
      "text/plain": [
       "0                  时间戳  数据质量      数据值\n",
       "0                  时间戳  数据质量      数据值\n",
       "1  2020-03-01 00:00:00  Good  79.1382\n",
       "2  2020-03-01 00:01:00  Good   79.044\n",
       "3  2020-03-01 00:02:00  Good  78.9498\n",
       "4  2020-03-01 00:03:00  Good  78.8556"
      ]
     },
     "execution_count": 58,
     "metadata": {},
     "output_type": "execute_result"
    }
   ],
   "source": [
    "df['IOS_MESHX3_AI_0001'].head(5)"
   ]
  },
  {
   "cell_type": "code",
   "execution_count": 7,
   "metadata": {},
   "outputs": [
    {
     "name": "stdout",
     "output_type": "stream",
     "text": [
      "sheet-good-len 352199 352808\n",
      "fulltable-len 0\n",
      "1\n",
      "sheet-good-len 352199 352808\n",
      "fulltable-len 352808\n",
      "2\n",
      "sheet-good-len 352214 352808\n",
      "fulltable-len 352822\n",
      "3\n",
      "sheet-good-len 351667 352808\n",
      "fulltable-len 352835\n",
      "4\n",
      "sheet-good-len 342265 342859\n",
      "fulltable-len 352344\n",
      "5\n",
      "sheet-good-len 352214 352808\n",
      "fulltable-len 342492\n",
      "6\n",
      "sheet-good-len 352214 352808\n",
      "fulltable-len 342700\n",
      "7\n",
      "sheet-good-len 342265 342859\n",
      "fulltable-len 343116\n",
      "8\n",
      "sheet-good-len 352199 352808\n",
      "fulltable-len 343884\n",
      "9\n",
      "sheet-good-len 352199 352808\n",
      "fulltable-len 345484\n",
      "10\n",
      "sheet-good-len 342265 342859\n",
      "fulltable-len 348684\n",
      "11\n",
      "sheet-good-len 352214 352808\n",
      "fulltable-len 354828\n",
      "12\n",
      "sheet-good-len 352199 352808\n",
      "fulltable-len 367372\n",
      "13\n",
      "sheet-good-len 352199 352808\n",
      "fulltable-len 392460\n",
      "14\n",
      "sheet-good-len 352214 352808\n",
      "fulltable-len 442636\n",
      "15\n"
     ]
    }
   ],
   "source": [
    "count = 0\n",
    "full_table_1 = pd.DataFrame()\n",
    "for name, sheet in df.items():\n",
    "    if name.startswith('I') and count < 15:\n",
    "        sheet.columns = sheet.iloc[0]\n",
    "        sheet = sheet.drop(sheet.index[0])\n",
    "        sheet = sheet.rename(columns={'时间戳':'TIME', '数据质量':'DATALABEL','数据值':name})\n",
    "        print('sheet-good-len', len(sheet[sheet['DATALABEL'] == 'Good']), len(sheet))\n",
    "        #print(sheet['DATALABEL'].unique())\n",
    "        print('fulltable-len', len(full_table_1))\n",
    "        count = count + 1\n",
    "        print(count)\n",
    "        if count == 1:\n",
    "            full_table_1 = sheet\n",
    "        else:\n",
    "            full_table_1 = full_table_1.merge(sheet, left_on=['TIME', 'DATALABEL'], right_on=['TIME', 'DATALABEL'])"
   ]
  },
  {
   "cell_type": "code",
   "execution_count": 10,
   "metadata": {},
   "outputs": [
    {
     "name": "stdout",
     "output_type": "stream",
     "text": [
      "sheet-good-len 342250 342859\n",
      "fulltable-len 0\n",
      "16\n",
      "sheet-good-len 352199 352808\n",
      "fulltable-len 342859\n",
      "17\n",
      "sheet-good-len 352199 352808\n",
      "fulltable-len 342872\n",
      "18\n",
      "sheet-good-len 342265 342859\n",
      "fulltable-len 342898\n",
      "19\n",
      "sheet-good-len 352214 352808\n",
      "fulltable-len 342931\n",
      "20\n",
      "sheet-good-len 352214 352808\n",
      "fulltable-len 343031\n",
      "21\n",
      "sheet-good-len 342250 342859\n",
      "fulltable-len 343231\n",
      "22\n",
      "sheet-good-len 352214 352808\n",
      "fulltable-len 343615\n",
      "23\n",
      "sheet-good-len 352199 352808\n",
      "fulltable-len 344399\n",
      "24\n",
      "sheet-good-len 342250 342859\n",
      "fulltable-len 345967\n",
      "25\n",
      "sheet-good-len 352214 352808\n",
      "fulltable-len 349039\n",
      "26\n",
      "sheet-good-len 352214 352808\n",
      "fulltable-len 355247\n",
      "27\n",
      "sheet-good-len 342250 342859\n",
      "fulltable-len 367663\n",
      "28\n",
      "sheet-good-len 352214 352808\n",
      "fulltable-len 392239\n",
      "29\n"
     ]
    }
   ],
   "source": [
    "count = 0\n",
    "full_table_2 = pd.DataFrame()\n",
    "for name, sheet in df.items():\n",
    "    if name.startswith('I'):\n",
    "        sheet.columns = sheet.iloc[0]\n",
    "        sheet = sheet.drop(sheet.index[0])\n",
    "        sheet = sheet.rename(columns={'时间戳':'TIME', '数据质量':'DATALABEL','数据值':name})\n",
    "        count = count + 1\n",
    "        if count >= 16:\n",
    "            print('sheet-good-len', len(sheet[sheet['DATALABEL'] == 'Good']), len(sheet))\n",
    "            #print(sheet['DATALABEL'].unique())\n",
    "            print('fulltable-len', len(full_table_2))\n",
    "            print(count)\n",
    "        \n",
    "        if count == 16:\n",
    "            full_table_2 = sheet\n",
    "        elif count > 16:\n",
    "            full_table_2 = full_table_2.merge(sheet, left_on=['TIME', 'DATALABEL'], right_on=['TIME', 'DATALABEL'])"
   ]
  },
  {
   "cell_type": "code",
   "execution_count": 19,
   "metadata": {},
   "outputs": [
    {
     "data": {
      "text/html": [
       "<div>\n",
       "<style scoped>\n",
       "    .dataframe tbody tr th:only-of-type {\n",
       "        vertical-align: middle;\n",
       "    }\n",
       "\n",
       "    .dataframe tbody tr th {\n",
       "        vertical-align: top;\n",
       "    }\n",
       "\n",
       "    .dataframe thead th {\n",
       "        text-align: right;\n",
       "    }\n",
       "</style>\n",
       "<table border=\"1\" class=\"dataframe\">\n",
       "  <thead>\n",
       "    <tr style=\"text-align: right;\">\n",
       "      <th></th>\n",
       "      <th>TIME</th>\n",
       "      <th>DATALABEL</th>\n",
       "      <th>IOS_MESHX3_AI_0001</th>\n",
       "      <th>IOS_MESHX3_AI_0002</th>\n",
       "      <th>IOS_MESHX3_AI_0005</th>\n",
       "      <th>IOS_MESHX3_AI_0006</th>\n",
       "      <th>IOS_MESHX3_AI_0007</th>\n",
       "      <th>IOS_MESHX3_AI_0009</th>\n",
       "      <th>IOS_MESHX3_AI_0010</th>\n",
       "      <th>IOS_MESHX3_AI_0011</th>\n",
       "      <th>IOS_MESHX3_AI_0014</th>\n",
       "      <th>IOS_MESHX3_AI_0016</th>\n",
       "      <th>IOS_MESHX3_AI_0017</th>\n",
       "      <th>IOS_MESHX3_AI_0018</th>\n",
       "      <th>IOS_MESHX3_AI_0019</th>\n",
       "      <th>IOS_MESHX3_AI_0020</th>\n",
       "      <th>IOS_MESHX3_AI_0021</th>\n",
       "    </tr>\n",
       "  </thead>\n",
       "  <tbody>\n",
       "    <tr>\n",
       "      <th>0</th>\n",
       "      <td>2020-03-01 00:00:00</td>\n",
       "      <td>Good</td>\n",
       "      <td>79.1382</td>\n",
       "      <td>84.1751</td>\n",
       "      <td>59.607</td>\n",
       "      <td>39.9728</td>\n",
       "      <td>45.9268</td>\n",
       "      <td>25.827</td>\n",
       "      <td>27.5784</td>\n",
       "      <td>29.8366</td>\n",
       "      <td>0</td>\n",
       "      <td>0</td>\n",
       "      <td>0</td>\n",
       "      <td>0</td>\n",
       "      <td>0.16381</td>\n",
       "      <td>20.8564</td>\n",
       "      <td>0</td>\n",
       "    </tr>\n",
       "    <tr>\n",
       "      <th>1</th>\n",
       "      <td>2020-03-01 00:01:00</td>\n",
       "      <td>Good</td>\n",
       "      <td>79.044</td>\n",
       "      <td>84.0665</td>\n",
       "      <td>59.5105</td>\n",
       "      <td>39.9295</td>\n",
       "      <td>45.866</td>\n",
       "      <td>25.8183</td>\n",
       "      <td>27.5655</td>\n",
       "      <td>29.8173</td>\n",
       "      <td>0</td>\n",
       "      <td>0</td>\n",
       "      <td>0</td>\n",
       "      <td>0</td>\n",
       "      <td>0.164078</td>\n",
       "      <td>20.8611</td>\n",
       "      <td>0</td>\n",
       "    </tr>\n",
       "    <tr>\n",
       "      <th>2</th>\n",
       "      <td>2020-03-01 00:02:00</td>\n",
       "      <td>Good</td>\n",
       "      <td>78.9498</td>\n",
       "      <td>83.9579</td>\n",
       "      <td>59.4139</td>\n",
       "      <td>39.8861</td>\n",
       "      <td>45.8053</td>\n",
       "      <td>25.8096</td>\n",
       "      <td>27.5526</td>\n",
       "      <td>29.7981</td>\n",
       "      <td>0</td>\n",
       "      <td>0</td>\n",
       "      <td>0</td>\n",
       "      <td>0</td>\n",
       "      <td>0.164346</td>\n",
       "      <td>20.8659</td>\n",
       "      <td>0</td>\n",
       "    </tr>\n",
       "    <tr>\n",
       "      <th>3</th>\n",
       "      <td>2020-03-01 00:03:00</td>\n",
       "      <td>Good</td>\n",
       "      <td>78.8556</td>\n",
       "      <td>83.8493</td>\n",
       "      <td>59.3174</td>\n",
       "      <td>39.8428</td>\n",
       "      <td>45.7445</td>\n",
       "      <td>25.8009</td>\n",
       "      <td>27.5398</td>\n",
       "      <td>29.7789</td>\n",
       "      <td>0</td>\n",
       "      <td>0</td>\n",
       "      <td>0</td>\n",
       "      <td>0</td>\n",
       "      <td>0.164613</td>\n",
       "      <td>20.8707</td>\n",
       "      <td>0</td>\n",
       "    </tr>\n",
       "    <tr>\n",
       "      <th>4</th>\n",
       "      <td>2020-03-01 00:04:00</td>\n",
       "      <td>Good</td>\n",
       "      <td>78.7614</td>\n",
       "      <td>83.7407</td>\n",
       "      <td>59.2208</td>\n",
       "      <td>39.7995</td>\n",
       "      <td>45.6838</td>\n",
       "      <td>25.7922</td>\n",
       "      <td>27.5269</td>\n",
       "      <td>29.7596</td>\n",
       "      <td>0</td>\n",
       "      <td>0</td>\n",
       "      <td>0</td>\n",
       "      <td>0</td>\n",
       "      <td>0.164881</td>\n",
       "      <td>20.8754</td>\n",
       "      <td>0</td>\n",
       "    </tr>\n",
       "  </tbody>\n",
       "</table>\n",
       "</div>"
      ],
      "text/plain": [
       "0                 TIME DATALABEL IOS_MESHX3_AI_0001 IOS_MESHX3_AI_0002  \\\n",
       "0  2020-03-01 00:00:00      Good            79.1382            84.1751   \n",
       "1  2020-03-01 00:01:00      Good             79.044            84.0665   \n",
       "2  2020-03-01 00:02:00      Good            78.9498            83.9579   \n",
       "3  2020-03-01 00:03:00      Good            78.8556            83.8493   \n",
       "4  2020-03-01 00:04:00      Good            78.7614            83.7407   \n",
       "\n",
       "0 IOS_MESHX3_AI_0005 IOS_MESHX3_AI_0006   IOS_MESHX3_AI_0007  \\\n",
       "0             59.607              39.9728            45.9268   \n",
       "1            59.5105              39.9295             45.866   \n",
       "2            59.4139              39.8861            45.8053   \n",
       "3            59.3174              39.8428            45.7445   \n",
       "4            59.2208              39.7995            45.6838   \n",
       "\n",
       "0 IOS_MESHX3_AI_0009 IOS_MESHX3_AI_0010 IOS_MESHX3_AI_0011    \\\n",
       "0             25.827            27.5784              29.8366   \n",
       "1            25.8183            27.5655              29.8173   \n",
       "2            25.8096            27.5526              29.7981   \n",
       "3            25.8009            27.5398              29.7789   \n",
       "4            25.7922            27.5269              29.7596   \n",
       "\n",
       "0 IOS_MESHX3_AI_0014 IOS_MESHX3_AI_0016 IOS_MESHX3_AI_0017 IOS_MESHX3_AI_0018  \\\n",
       "0                  0                  0                  0                  0   \n",
       "1                  0                  0                  0                  0   \n",
       "2                  0                  0                  0                  0   \n",
       "3                  0                  0                  0                  0   \n",
       "4                  0                  0                  0                  0   \n",
       "\n",
       "0 IOS_MESHX3_AI_0019 IOS_MESHX3_AI_0020 IOS_MESHX3_AI_0021  \n",
       "0            0.16381            20.8564                  0  \n",
       "1           0.164078            20.8611                  0  \n",
       "2           0.164346            20.8659                  0  \n",
       "3           0.164613            20.8707                  0  \n",
       "4           0.164881            20.8754                  0  "
      ]
     },
     "execution_count": 19,
     "metadata": {},
     "output_type": "execute_result"
    }
   ],
   "source": [
    "full_table_1.head(5)"
   ]
  },
  {
   "cell_type": "code",
   "execution_count": 70,
   "metadata": {},
   "outputs": [],
   "source": [
    "full_table_1.set_index('TIME', inplace = True)"
   ]
  },
  {
   "cell_type": "code",
   "execution_count": 74,
   "metadata": {},
   "outputs": [
    {
     "data": {
      "text/plain": [
       "pandas.core.indexes.datetimes.DatetimeIndex"
      ]
     },
     "execution_count": 74,
     "metadata": {},
     "output_type": "execute_result"
    }
   ],
   "source": [
    "type(full_table_1.index)"
   ]
  },
  {
   "cell_type": "code",
   "execution_count": 76,
   "metadata": {},
   "outputs": [
    {
     "data": {
      "text/plain": [
       "DatetimeIndex(['2020-03-01 00:00:00', '2020-03-01 00:01:00',\n",
       "               '2020-03-01 00:02:00', '2020-03-01 00:03:00',\n",
       "               '2020-03-01 00:04:00', '2020-03-01 00:05:00',\n",
       "               '2020-03-01 00:06:00', '2020-03-01 00:07:00',\n",
       "               '2020-03-01 00:08:00', '2020-03-01 00:09:00',\n",
       "               ...\n",
       "               '2020-10-31 23:51:00', '2020-10-31 23:52:00',\n",
       "               '2020-10-31 23:53:00', '2020-10-31 23:54:00',\n",
       "               '2020-10-31 23:55:00', '2020-10-31 23:56:00',\n",
       "               '2020-10-31 23:57:00', '2020-10-31 23:58:00',\n",
       "               '2020-10-31 23:59:00', '2020-11-01 00:00:00'],\n",
       "              dtype='datetime64[ns]', name='TIME', length=542988, freq=None)"
      ]
     },
     "execution_count": 76,
     "metadata": {},
     "output_type": "execute_result"
    }
   ],
   "source": [
    "full_table_1.index"
   ]
  },
  {
   "cell_type": "code",
   "execution_count": 60,
   "metadata": {},
   "outputs": [
    {
     "name": "stdout",
     "output_type": "stream",
     "text": [
      "                            C\n",
      "2020-12-03 22:00:00  22:00:00\n",
      "2020-12-03 22:30:00  22:30:00\n",
      "2020-12-03 23:00:00  23:00:00\n",
      "                            C\n",
      "2020-12-03 22:00:00  22:00:00\n",
      "2020-12-03 22:30:00  22:30:00\n",
      "2020-12-03 23:00:00  23:00:00\n"
     ]
    }
   ],
   "source": [
    "import pandas as pd  \n",
    "C = pd.Series(['22:00:00','22:30:00','23:00:00'])\n",
    "\n",
    "df = pd.DataFrame()\n",
    "df['C'] = C\n",
    "\n",
    "#set index to the obervations after converting them to type datetimeIndex\n",
    "df.index = pd.to_datetime(C)\n",
    "print(df)\n",
    "\n",
    "print(df.between_time(df['C'][0],df['C'][2]))"
   ]
  },
  {
   "cell_type": "code",
   "execution_count": 118,
   "metadata": {},
   "outputs": [
    {
     "data": {
      "text/plain": [
       "\u001b[1;31mType:\u001b[0m        module\n",
       "\u001b[1;31mString form:\u001b[0m <module 'datetime' from 'c:\\\\users\\\\lfu163986\\\\appdata\\\\local\\\\programs\\\\python\\\\python38\\\\lib\\\\datetime.py'>\n",
       "\u001b[1;31mFile:\u001b[0m        c:\\users\\lfu163986\\appdata\\local\\programs\\python\\python38\\lib\\datetime.py\n",
       "\u001b[1;31mDocstring:\u001b[0m   Fast implementation of the datetime type.\n"
      ]
     },
     "metadata": {},
     "output_type": "display_data"
    }
   ],
   "source": [
    "import datetime\n",
    "datetime?"
   ]
  },
  {
   "cell_type": "code",
   "execution_count": 166,
   "metadata": {},
   "outputs": [],
   "source": [
    "#full_table_1 = full_table_1.reset_index()\n",
    "#full_table_1['DAY'] = full_table_1['TIME'].apply(lambda x:x.date())\n",
    "full_table_1['ACTUALTIME'] = full_table_1['TIME'].apply(lambda x:x.time())"
   ]
  },
  {
   "cell_type": "code",
   "execution_count": 180,
   "metadata": {},
   "outputs": [
    {
     "data": {
      "text/html": [
       "<div>\n",
       "<style scoped>\n",
       "    .dataframe tbody tr th:only-of-type {\n",
       "        vertical-align: middle;\n",
       "    }\n",
       "\n",
       "    .dataframe tbody tr th {\n",
       "        vertical-align: top;\n",
       "    }\n",
       "\n",
       "    .dataframe thead th {\n",
       "        text-align: right;\n",
       "    }\n",
       "</style>\n",
       "<table border=\"1\" class=\"dataframe\">\n",
       "  <thead>\n",
       "    <tr style=\"text-align: right;\">\n",
       "      <th></th>\n",
       "      <th>level_0</th>\n",
       "      <th>index</th>\n",
       "      <th>TIME</th>\n",
       "      <th>DATALABEL</th>\n",
       "      <th>IOS_MESHX3_AI_0001</th>\n",
       "      <th>IOS_MESHX3_AI_0002</th>\n",
       "      <th>IOS_MESHX3_AI_0005</th>\n",
       "      <th>IOS_MESHX3_AI_0006</th>\n",
       "      <th>IOS_MESHX3_AI_0007</th>\n",
       "      <th>IOS_MESHX3_AI_0009</th>\n",
       "      <th>...</th>\n",
       "      <th>IOS_MESHX3_AI_0011</th>\n",
       "      <th>IOS_MESHX3_AI_0014</th>\n",
       "      <th>IOS_MESHX3_AI_0016</th>\n",
       "      <th>IOS_MESHX3_AI_0017</th>\n",
       "      <th>IOS_MESHX3_AI_0018</th>\n",
       "      <th>IOS_MESHX3_AI_0019</th>\n",
       "      <th>IOS_MESHX3_AI_0020</th>\n",
       "      <th>IOS_MESHX3_AI_0021</th>\n",
       "      <th>DAY</th>\n",
       "      <th>ACTUALTIME</th>\n",
       "    </tr>\n",
       "  </thead>\n",
       "  <tbody>\n",
       "    <tr>\n",
       "      <th>0</th>\n",
       "      <td>0</td>\n",
       "      <td>0</td>\n",
       "      <td>2020-03-01 00:00:00</td>\n",
       "      <td>Good</td>\n",
       "      <td>79.1382</td>\n",
       "      <td>84.1751</td>\n",
       "      <td>59.607</td>\n",
       "      <td>39.9728</td>\n",
       "      <td>45.9268</td>\n",
       "      <td>25.827</td>\n",
       "      <td>...</td>\n",
       "      <td>29.8366</td>\n",
       "      <td>0</td>\n",
       "      <td>0</td>\n",
       "      <td>0</td>\n",
       "      <td>0</td>\n",
       "      <td>0.16381</td>\n",
       "      <td>20.8564</td>\n",
       "      <td>0</td>\n",
       "      <td>2020-03-01</td>\n",
       "      <td>00:00:00</td>\n",
       "    </tr>\n",
       "    <tr>\n",
       "      <th>1</th>\n",
       "      <td>1</td>\n",
       "      <td>1</td>\n",
       "      <td>2020-03-01 00:01:00</td>\n",
       "      <td>Good</td>\n",
       "      <td>79.044</td>\n",
       "      <td>84.0665</td>\n",
       "      <td>59.5105</td>\n",
       "      <td>39.9295</td>\n",
       "      <td>45.866</td>\n",
       "      <td>25.8183</td>\n",
       "      <td>...</td>\n",
       "      <td>29.8173</td>\n",
       "      <td>0</td>\n",
       "      <td>0</td>\n",
       "      <td>0</td>\n",
       "      <td>0</td>\n",
       "      <td>0.164078</td>\n",
       "      <td>20.8611</td>\n",
       "      <td>0</td>\n",
       "      <td>2020-03-01</td>\n",
       "      <td>00:01:00</td>\n",
       "    </tr>\n",
       "    <tr>\n",
       "      <th>2</th>\n",
       "      <td>2</td>\n",
       "      <td>2</td>\n",
       "      <td>2020-03-01 00:02:00</td>\n",
       "      <td>Good</td>\n",
       "      <td>78.9498</td>\n",
       "      <td>83.9579</td>\n",
       "      <td>59.4139</td>\n",
       "      <td>39.8861</td>\n",
       "      <td>45.8053</td>\n",
       "      <td>25.8096</td>\n",
       "      <td>...</td>\n",
       "      <td>29.7981</td>\n",
       "      <td>0</td>\n",
       "      <td>0</td>\n",
       "      <td>0</td>\n",
       "      <td>0</td>\n",
       "      <td>0.164346</td>\n",
       "      <td>20.8659</td>\n",
       "      <td>0</td>\n",
       "      <td>2020-03-01</td>\n",
       "      <td>00:02:00</td>\n",
       "    </tr>\n",
       "    <tr>\n",
       "      <th>3</th>\n",
       "      <td>3</td>\n",
       "      <td>3</td>\n",
       "      <td>2020-03-01 00:03:00</td>\n",
       "      <td>Good</td>\n",
       "      <td>78.8556</td>\n",
       "      <td>83.8493</td>\n",
       "      <td>59.3174</td>\n",
       "      <td>39.8428</td>\n",
       "      <td>45.7445</td>\n",
       "      <td>25.8009</td>\n",
       "      <td>...</td>\n",
       "      <td>29.7789</td>\n",
       "      <td>0</td>\n",
       "      <td>0</td>\n",
       "      <td>0</td>\n",
       "      <td>0</td>\n",
       "      <td>0.164613</td>\n",
       "      <td>20.8707</td>\n",
       "      <td>0</td>\n",
       "      <td>2020-03-01</td>\n",
       "      <td>00:03:00</td>\n",
       "    </tr>\n",
       "    <tr>\n",
       "      <th>4</th>\n",
       "      <td>4</td>\n",
       "      <td>4</td>\n",
       "      <td>2020-03-01 00:04:00</td>\n",
       "      <td>Good</td>\n",
       "      <td>78.7614</td>\n",
       "      <td>83.7407</td>\n",
       "      <td>59.2208</td>\n",
       "      <td>39.7995</td>\n",
       "      <td>45.6838</td>\n",
       "      <td>25.7922</td>\n",
       "      <td>...</td>\n",
       "      <td>29.7596</td>\n",
       "      <td>0</td>\n",
       "      <td>0</td>\n",
       "      <td>0</td>\n",
       "      <td>0</td>\n",
       "      <td>0.164881</td>\n",
       "      <td>20.8754</td>\n",
       "      <td>0</td>\n",
       "      <td>2020-03-01</td>\n",
       "      <td>00:04:00</td>\n",
       "    </tr>\n",
       "  </tbody>\n",
       "</table>\n",
       "<p>5 rows × 21 columns</p>\n",
       "</div>"
      ],
      "text/plain": [
       "0  level_0  index                TIME DATALABEL IOS_MESHX3_AI_0001  \\\n",
       "0        0      0 2020-03-01 00:00:00      Good            79.1382   \n",
       "1        1      1 2020-03-01 00:01:00      Good             79.044   \n",
       "2        2      2 2020-03-01 00:02:00      Good            78.9498   \n",
       "3        3      3 2020-03-01 00:03:00      Good            78.8556   \n",
       "4        4      4 2020-03-01 00:04:00      Good            78.7614   \n",
       "\n",
       "0 IOS_MESHX3_AI_0002 IOS_MESHX3_AI_0005 IOS_MESHX3_AI_0006    \\\n",
       "0            84.1751             59.607              39.9728   \n",
       "1            84.0665            59.5105              39.9295   \n",
       "2            83.9579            59.4139              39.8861   \n",
       "3            83.8493            59.3174              39.8428   \n",
       "4            83.7407            59.2208              39.7995   \n",
       "\n",
       "0 IOS_MESHX3_AI_0007 IOS_MESHX3_AI_0009  ... IOS_MESHX3_AI_0011    \\\n",
       "0            45.9268             25.827  ...              29.8366   \n",
       "1             45.866            25.8183  ...              29.8173   \n",
       "2            45.8053            25.8096  ...              29.7981   \n",
       "3            45.7445            25.8009  ...              29.7789   \n",
       "4            45.6838            25.7922  ...              29.7596   \n",
       "\n",
       "0 IOS_MESHX3_AI_0014 IOS_MESHX3_AI_0016 IOS_MESHX3_AI_0017 IOS_MESHX3_AI_0018  \\\n",
       "0                  0                  0                  0                  0   \n",
       "1                  0                  0                  0                  0   \n",
       "2                  0                  0                  0                  0   \n",
       "3                  0                  0                  0                  0   \n",
       "4                  0                  0                  0                  0   \n",
       "\n",
       "0 IOS_MESHX3_AI_0019 IOS_MESHX3_AI_0020 IOS_MESHX3_AI_0021         DAY  \\\n",
       "0            0.16381            20.8564                  0  2020-03-01   \n",
       "1           0.164078            20.8611                  0  2020-03-01   \n",
       "2           0.164346            20.8659                  0  2020-03-01   \n",
       "3           0.164613            20.8707                  0  2020-03-01   \n",
       "4           0.164881            20.8754                  0  2020-03-01   \n",
       "\n",
       "0 ACTUALTIME  \n",
       "0   00:00:00  \n",
       "1   00:01:00  \n",
       "2   00:02:00  \n",
       "3   00:03:00  \n",
       "4   00:04:00  \n",
       "\n",
       "[5 rows x 21 columns]"
      ]
     },
     "execution_count": 180,
     "metadata": {},
     "output_type": "execute_result"
    }
   ],
   "source": [
    "full_table_1.head(5)"
   ]
  },
  {
   "cell_type": "code",
   "execution_count": 175,
   "metadata": {},
   "outputs": [],
   "source": [
    "full_table_1.drop('ACTUALTIME', axis=1)\n",
    "full_table_1['ACTUALTIME'] = pd.to_datetime(full_table_1['TIME'],format= '%H:%M:%S' ).dt.time"
   ]
  },
  {
   "cell_type": "code",
   "execution_count": 184,
   "metadata": {},
   "outputs": [
    {
     "data": {
      "text/plain": [
       "Index(['level_0', 'index', 'TIME', 'DATALABEL', 'IOS_MESHX3_AI_0001',\n",
       "       'IOS_MESHX3_AI_0002', 'IOS_MESHX3_AI_0005', 'IOS_MESHX3_AI_0006  ',\n",
       "       'IOS_MESHX3_AI_0007', 'IOS_MESHX3_AI_0009', 'IOS_MESHX3_AI_0010',\n",
       "       'IOS_MESHX3_AI_0011  ', 'IOS_MESHX3_AI_0014', 'IOS_MESHX3_AI_0016',\n",
       "       'IOS_MESHX3_AI_0017', 'IOS_MESHX3_AI_0018', 'IOS_MESHX3_AI_0019',\n",
       "       'IOS_MESHX3_AI_0020', 'IOS_MESHX3_AI_0021', 'DAY', 'ACTUALTIME'],\n",
       "      dtype='object', name=0)"
      ]
     },
     "execution_count": 184,
     "metadata": {},
     "output_type": "execute_result"
    }
   ],
   "source": [
    "full_table_1.keys()"
   ]
  },
  {
   "cell_type": "code",
   "execution_count": 152,
   "metadata": {},
   "outputs": [],
   "source": [
    "groupedvalue = full_table_1.groupby(by = 'DAY')"
   ]
  },
  {
   "cell_type": "code",
   "execution_count": 201,
   "metadata": {},
   "outputs": [],
   "source": [
    "newdf = pd.DataFrame(columns = ['DAY','005','006','007','LABEL'])\n",
    "#for name, group in groupedvalue:\n",
    "    "
   ]
  },
  {
   "cell_type": "code",
   "execution_count": 202,
   "metadata": {},
   "outputs": [],
   "source": [
    "\n",
    "count = 0;\n",
    "for name, group in groupedvalue:\n",
    "    #print(str(name))\n",
    "    value1 = group[(group['ACTUALTIME'] > datetime.time(11,0,0)) & (group['ACTUALTIME'] < datetime.time(15,0,0))]['IOS_MESHX3_AI_0005'].mean()\n",
    "    value2 = group[(group['ACTUALTIME'] > datetime.time(11,0,0)) & (group['ACTUALTIME'] < datetime.time(15,0,0))]['IOS_MESHX3_AI_0006  '].mean()\n",
    "    value3 = group[(group['ACTUALTIME'] > datetime.time(11,0,0)) & (group['ACTUALTIME'] < datetime.time(15,0,0))]['IOS_MESHX3_AI_0007'].mean()\n",
    "    value5 = group[(group['ACTUALTIME'] > datetime.time(17,30,0)) & (group['ACTUALTIME'] < datetime.time(18,0,0))]['IOS_MESHX3_AI_0005'].min() > 310\n",
    "    newRow = pd.DataFrame({'DAY':[name],'005':[value1],'006':[value2],'007':[value3],'LABEL':[value5]})\n",
    "    newdf = newdf.append(newRow)"
   ]
  },
  {
   "cell_type": "code",
   "execution_count": 224,
   "metadata": {},
   "outputs": [
    {
     "data": {
      "text/html": [
       "<div>\n",
       "<style scoped>\n",
       "    .dataframe tbody tr th:only-of-type {\n",
       "        vertical-align: middle;\n",
       "    }\n",
       "\n",
       "    .dataframe tbody tr th {\n",
       "        vertical-align: top;\n",
       "    }\n",
       "\n",
       "    .dataframe thead th {\n",
       "        text-align: right;\n",
       "    }\n",
       "</style>\n",
       "<table border=\"1\" class=\"dataframe\">\n",
       "  <thead>\n",
       "    <tr style=\"text-align: right;\">\n",
       "      <th></th>\n",
       "      <th>DAY</th>\n",
       "      <th>005</th>\n",
       "      <th>006</th>\n",
       "      <th>007</th>\n",
       "      <th>LABEL</th>\n",
       "    </tr>\n",
       "  </thead>\n",
       "  <tbody>\n",
       "    <tr>\n",
       "      <th>0</th>\n",
       "      <td>2020-03-01</td>\n",
       "      <td>320.846539</td>\n",
       "      <td>320.731992</td>\n",
       "      <td>317.738088</td>\n",
       "      <td>True</td>\n",
       "    </tr>\n",
       "    <tr>\n",
       "      <th>0</th>\n",
       "      <td>2020-03-02</td>\n",
       "      <td>319.546913</td>\n",
       "      <td>321.462791</td>\n",
       "      <td>319.134647</td>\n",
       "      <td>True</td>\n",
       "    </tr>\n",
       "    <tr>\n",
       "      <th>0</th>\n",
       "      <td>2020-03-03</td>\n",
       "      <td>320.861633</td>\n",
       "      <td>321.942010</td>\n",
       "      <td>319.869922</td>\n",
       "      <td>True</td>\n",
       "    </tr>\n",
       "    <tr>\n",
       "      <th>0</th>\n",
       "      <td>2020-03-04</td>\n",
       "      <td>320.208028</td>\n",
       "      <td>321.816851</td>\n",
       "      <td>319.545031</td>\n",
       "      <td>True</td>\n",
       "    </tr>\n",
       "    <tr>\n",
       "      <th>0</th>\n",
       "      <td>2020-03-05</td>\n",
       "      <td>321.655906</td>\n",
       "      <td>321.235805</td>\n",
       "      <td>318.633997</td>\n",
       "      <td>False</td>\n",
       "    </tr>\n",
       "  </tbody>\n",
       "</table>\n",
       "</div>"
      ],
      "text/plain": [
       "          DAY         005         006         007  LABEL\n",
       "0  2020-03-01  320.846539  320.731992  317.738088   True\n",
       "0  2020-03-02  319.546913  321.462791  319.134647   True\n",
       "0  2020-03-03  320.861633  321.942010  319.869922   True\n",
       "0  2020-03-04  320.208028  321.816851  319.545031   True\n",
       "0  2020-03-05  321.655906  321.235805  318.633997  False"
      ]
     },
     "execution_count": 224,
     "metadata": {},
     "output_type": "execute_result"
    }
   ],
   "source": [
    "newdf.head(5)"
   ]
  },
  {
   "cell_type": "code",
   "execution_count": 225,
   "metadata": {},
   "outputs": [
    {
     "data": {
      "text/plain": [
       "DAY       object\n",
       "005      float64\n",
       "006      float64\n",
       "007      float64\n",
       "LABEL     object\n",
       "dtype: object"
      ]
     },
     "execution_count": 225,
     "metadata": {},
     "output_type": "execute_result"
    }
   ],
   "source": [
    "newdf.dtypes"
   ]
  },
  {
   "cell_type": "code",
   "execution_count": 216,
   "metadata": {},
   "outputs": [],
   "source": [
    "features=['005','006','007']"
   ]
  },
  {
   "cell_type": "code",
   "execution_count": 217,
   "metadata": {},
   "outputs": [],
   "source": [
    "forpcadata = newdf.dropna()"
   ]
  },
  {
   "cell_type": "code",
   "execution_count": 245,
   "metadata": {},
   "outputs": [],
   "source": [
    "from sklearn.preprocessing import StandardScaler\n",
    "x = forpcadata.loc[:, features].values\n",
    "x = StandardScaler().fit_transform(x) # normalizing the features"
   ]
  },
  {
   "cell_type": "code",
   "execution_count": 246,
   "metadata": {},
   "outputs": [],
   "source": [
    "from sklearn.decomposition import PCA\n",
    "pca_test = PCA(n_components=2)\n",
    "principalComponents_test = pca_test.fit_transform(x)"
   ]
  },
  {
   "cell_type": "code",
   "execution_count": 247,
   "metadata": {},
   "outputs": [],
   "source": [
    "principal_test_Df = pd.DataFrame(data = principalComponents_test\n",
    "             , columns = ['principal component 1', 'principal component 2'])"
   ]
  },
  {
   "cell_type": "code",
   "execution_count": 250,
   "metadata": {},
   "outputs": [
    {
     "data": {
      "text/html": [
       "<div>\n",
       "<style scoped>\n",
       "    .dataframe tbody tr th:only-of-type {\n",
       "        vertical-align: middle;\n",
       "    }\n",
       "\n",
       "    .dataframe tbody tr th {\n",
       "        vertical-align: top;\n",
       "    }\n",
       "\n",
       "    .dataframe thead th {\n",
       "        text-align: right;\n",
       "    }\n",
       "</style>\n",
       "<table border=\"1\" class=\"dataframe\">\n",
       "  <thead>\n",
       "    <tr style=\"text-align: right;\">\n",
       "      <th></th>\n",
       "      <th>principal component 1</th>\n",
       "      <th>principal component 2</th>\n",
       "    </tr>\n",
       "  </thead>\n",
       "  <tbody>\n",
       "    <tr>\n",
       "      <th>0</th>\n",
       "      <td>-1.038980</td>\n",
       "      <td>0.011248</td>\n",
       "    </tr>\n",
       "    <tr>\n",
       "      <th>1</th>\n",
       "      <td>-1.042859</td>\n",
       "      <td>-0.004823</td>\n",
       "    </tr>\n",
       "    <tr>\n",
       "      <th>2</th>\n",
       "      <td>-1.054878</td>\n",
       "      <td>-0.000101</td>\n",
       "    </tr>\n",
       "    <tr>\n",
       "      <th>3</th>\n",
       "      <td>-1.049627</td>\n",
       "      <td>-0.002939</td>\n",
       "    </tr>\n",
       "    <tr>\n",
       "      <th>4</th>\n",
       "      <td>-1.049469</td>\n",
       "      <td>0.011903</td>\n",
       "    </tr>\n",
       "  </tbody>\n",
       "</table>\n",
       "</div>"
      ],
      "text/plain": [
       "   principal component 1  principal component 2\n",
       "0              -1.038980               0.011248\n",
       "1              -1.042859              -0.004823\n",
       "2              -1.054878              -0.000101\n",
       "3              -1.049627              -0.002939\n",
       "4              -1.049469               0.011903"
      ]
     },
     "execution_count": 250,
     "metadata": {},
     "output_type": "execute_result"
    }
   ],
   "source": [
    "principal_test_Df.head(5)"
   ]
  },
  {
   "cell_type": "code",
   "execution_count": 251,
   "metadata": {},
   "outputs": [
    {
     "data": {
      "text/plain": [
       "238"
      ]
     },
     "execution_count": 251,
     "metadata": {},
     "output_type": "execute_result"
    }
   ],
   "source": [
    "len(principal_test_Df)"
   ]
  },
  {
   "cell_type": "code",
   "execution_count": 236,
   "metadata": {},
   "outputs": [
    {
     "data": {
      "text/html": [
       "<div>\n",
       "<style scoped>\n",
       "    .dataframe tbody tr th:only-of-type {\n",
       "        vertical-align: middle;\n",
       "    }\n",
       "\n",
       "    .dataframe tbody tr th {\n",
       "        vertical-align: top;\n",
       "    }\n",
       "\n",
       "    .dataframe thead th {\n",
       "        text-align: right;\n",
       "    }\n",
       "</style>\n",
       "<table border=\"1\" class=\"dataframe\">\n",
       "  <thead>\n",
       "    <tr style=\"text-align: right;\">\n",
       "      <th></th>\n",
       "      <th>DAY</th>\n",
       "      <th>005</th>\n",
       "      <th>006</th>\n",
       "      <th>007</th>\n",
       "      <th>LABEL</th>\n",
       "    </tr>\n",
       "  </thead>\n",
       "  <tbody>\n",
       "    <tr>\n",
       "      <th>0</th>\n",
       "      <td>2020-03-01</td>\n",
       "      <td>320.846539</td>\n",
       "      <td>320.731992</td>\n",
       "      <td>317.738088</td>\n",
       "      <td>True</td>\n",
       "    </tr>\n",
       "    <tr>\n",
       "      <th>0</th>\n",
       "      <td>2020-03-02</td>\n",
       "      <td>319.546913</td>\n",
       "      <td>321.462791</td>\n",
       "      <td>319.134647</td>\n",
       "      <td>True</td>\n",
       "    </tr>\n",
       "    <tr>\n",
       "      <th>0</th>\n",
       "      <td>2020-03-03</td>\n",
       "      <td>320.861633</td>\n",
       "      <td>321.942010</td>\n",
       "      <td>319.869922</td>\n",
       "      <td>True</td>\n",
       "    </tr>\n",
       "    <tr>\n",
       "      <th>0</th>\n",
       "      <td>2020-03-04</td>\n",
       "      <td>320.208028</td>\n",
       "      <td>321.816851</td>\n",
       "      <td>319.545031</td>\n",
       "      <td>True</td>\n",
       "    </tr>\n",
       "    <tr>\n",
       "      <th>0</th>\n",
       "      <td>2020-03-17</td>\n",
       "      <td>321.930088</td>\n",
       "      <td>321.727336</td>\n",
       "      <td>319.483563</td>\n",
       "      <td>True</td>\n",
       "    </tr>\n",
       "    <tr>\n",
       "      <th>...</th>\n",
       "      <td>...</td>\n",
       "      <td>...</td>\n",
       "      <td>...</td>\n",
       "      <td>...</td>\n",
       "      <td>...</td>\n",
       "    </tr>\n",
       "    <tr>\n",
       "      <th>0</th>\n",
       "      <td>2020-09-18</td>\n",
       "      <td>321.571918</td>\n",
       "      <td>323.115684</td>\n",
       "      <td>322.776452</td>\n",
       "      <td>True</td>\n",
       "    </tr>\n",
       "    <tr>\n",
       "      <th>0</th>\n",
       "      <td>2020-09-22</td>\n",
       "      <td>321.335795</td>\n",
       "      <td>323.286723</td>\n",
       "      <td>322.947732</td>\n",
       "      <td>True</td>\n",
       "    </tr>\n",
       "    <tr>\n",
       "      <th>0</th>\n",
       "      <td>2020-10-14</td>\n",
       "      <td>321.182236</td>\n",
       "      <td>323.236891</td>\n",
       "      <td>322.875572</td>\n",
       "      <td>True</td>\n",
       "    </tr>\n",
       "    <tr>\n",
       "      <th>0</th>\n",
       "      <td>2020-10-20</td>\n",
       "      <td>321.105641</td>\n",
       "      <td>323.014237</td>\n",
       "      <td>322.809823</td>\n",
       "      <td>True</td>\n",
       "    </tr>\n",
       "    <tr>\n",
       "      <th>0</th>\n",
       "      <td>2020-10-21</td>\n",
       "      <td>320.865628</td>\n",
       "      <td>323.352116</td>\n",
       "      <td>323.229212</td>\n",
       "      <td>True</td>\n",
       "    </tr>\n",
       "  </tbody>\n",
       "</table>\n",
       "<p>90 rows × 5 columns</p>\n",
       "</div>"
      ],
      "text/plain": [
       "           DAY         005         006         007 LABEL\n",
       "0   2020-03-01  320.846539  320.731992  317.738088  True\n",
       "0   2020-03-02  319.546913  321.462791  319.134647  True\n",
       "0   2020-03-03  320.861633  321.942010  319.869922  True\n",
       "0   2020-03-04  320.208028  321.816851  319.545031  True\n",
       "0   2020-03-17  321.930088  321.727336  319.483563  True\n",
       "..         ...         ...         ...         ...   ...\n",
       "0   2020-09-18  321.571918  323.115684  322.776452  True\n",
       "0   2020-09-22  321.335795  323.286723  322.947732  True\n",
       "0   2020-10-14  321.182236  323.236891  322.875572  True\n",
       "0   2020-10-20  321.105641  323.014237  322.809823  True\n",
       "0   2020-10-21  320.865628  323.352116  323.229212  True\n",
       "\n",
       "[90 rows x 5 columns]"
      ]
     },
     "execution_count": 236,
     "metadata": {},
     "output_type": "execute_result"
    }
   ],
   "source": [
    "forpcadata[forpcadata['LABEL'] == True]"
   ]
  },
  {
   "cell_type": "code",
   "execution_count": 259,
   "metadata": {},
   "outputs": [],
   "source": [
    "forpcadata.reset_index(inplace = True)"
   ]
  },
  {
   "cell_type": "code",
   "execution_count": 256,
   "metadata": {},
   "outputs": [
    {
     "data": {
      "text/plain": [
       "238"
      ]
     },
     "execution_count": 256,
     "metadata": {},
     "output_type": "execute_result"
    }
   ],
   "source": [
    "len(forpcadata)"
   ]
  },
  {
   "cell_type": "code",
   "execution_count": 262,
   "metadata": {},
   "outputs": [
    {
     "data": {
      "text/plain": [
       "<matplotlib.legend.Legend at 0x224ab23b460>"
      ]
     },
     "execution_count": 262,
     "metadata": {},
     "output_type": "execute_result"
    },
    {
     "data": {
      "text/plain": [
       "<Figure size 432x288 with 0 Axes>"
      ]
     },
     "metadata": {},
     "output_type": "display_data"
    },
    {
     "data": {
      "image/png": "[encoded data removed]",
      "text/plain": [
       "<Figure size 720x720 with 1 Axes>"
      ]
     },
     "metadata": {
      "needs_background": "light"
     },
     "output_type": "display_data"
    }
   ],
   "source": [
    "plt.figure()\n",
    "plt.figure(figsize=(10,10))\n",
    "plt.xticks(fontsize=12)\n",
    "plt.yticks(fontsize=14)\n",
    "plt.xlabel('Principal Component - 1',fontsize=20)\n",
    "plt.ylabel('Principal Component - 2',fontsize=20)\n",
    "plt.title(\"Principal Component Analysis of PCA Test Dataset\",fontsize=20)\n",
    "targets = [True, False]\n",
    "colors = ['r', 'g']\n",
    "for target, color in zip(targets,colors):\n",
    "    indicesToKeep = forpcadata['LABEL'] == target\n",
    "    plt.scatter(principal_test_Df.loc[indicesToKeep, 'principal component 1']\n",
    "                , principal_test_Df.loc[indicesToKeep, 'principal component 2'], c = color, s = 10)\n",
    "\n",
    "plt.legend(targets,prop={'size': 15})"
   ]
  },
  {
   "cell_type": "code",
   "execution_count": 117,
   "metadata": {},
   "outputs": [
    {
     "data": {
      "image/png": "[encoded data removed]",
      "text/plain": [
       "<Figure size 2160x1080 with 1 Axes>"
      ]
     },
     "metadata": {
      "needs_background": "light"
     },
     "output_type": "display_data"
    }
   ],
   "source": [
    "import matplotlib.dates as mdates\n",
    "\n",
    "fig, ax = plt.subplots(1,figsize= (30,15))\n",
    "fig.autofmt_xdate()\n",
    "ax.plot(testdata.index,testdata['IOS_MESHX3_AI_0005'],testdata.index,testdata['IOS_MESHX3_AI_0006  '],testdata.index,testdata['IOS_MESHX3_AI_0007'])\n",
    "\n",
    "xfmt = mdates.DateFormatter('%d-%m-%y %H:%M')\n",
    "ax.xaxis.set_major_formatter(xfmt)\n",
    "\n",
    "plt.show()"
   ]
  }
 ],
 "metadata": {
  "kernelspec": {
   "display_name": "Python 3",
   "language": "python",
   "name": "python3"
  },
  "language_info": {
   "codemirror_mode": {
    "name": "ipython",
    "version": 3
   },
   "file_extension": ".py",
   "mimetype": "text/x-python",
   "name": "python",
   "nbconvert_exporter": "python",
   "pygments_lexer": "ipython3",
   "version": "3.8.3"
  }
 },
 "nbformat": 4,
 "nbformat_minor": 4
}
