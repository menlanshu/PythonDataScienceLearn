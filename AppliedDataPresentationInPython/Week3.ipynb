{
 "cells": [
  {
   "cell_type": "markdown",
   "metadata": {},
   "source": [
    "# Subplots"
   ]
  },
  {
   "cell_type": "code",
   "execution_count": 7,
   "metadata": {},
   "outputs": [
    {
     "data": {
      "text/plain": [
       "\u001b[1;31mSignature:\u001b[0m \u001b[0mplt\u001b[0m\u001b[1;33m.\u001b[0m\u001b[0msubplot\u001b[0m\u001b[1;33m(\u001b[0m\u001b[1;33m*\u001b[0m\u001b[0margs\u001b[0m\u001b[1;33m,\u001b[0m \u001b[1;33m**\u001b[0m\u001b[0mkwargs\u001b[0m\u001b[1;33m)\u001b[0m\u001b[1;33m\u001b[0m\u001b[1;33m\u001b[0m\u001b[0m\n",
       "\u001b[1;31mDocstring:\u001b[0m\n",
       "Add a subplot to the current figure.\n",
       "\n",
       "Wrapper of `.Figure.add_subplot` with a difference in behavior\n",
       "explained in the notes section.\n",
       "\n",
       "Call signatures::\n",
       "\n",
       "   subplot(nrows, ncols, index, **kwargs)\n",
       "   subplot(pos, **kwargs)\n",
       "   subplot(**kwargs)\n",
       "   subplot(ax)\n",
       "\n",
       "Parameters\n",
       "----------\n",
       "*args : int, (int, int, *index*), or `.SubplotSpec`, default: (1, 1, 1)\n",
       "    The position of the subplot described by one of\n",
       "\n",
       "    - Three integers (*nrows*, *ncols*, *index*). The subplot will take the\n",
       "      *index* position on a grid with *nrows* rows and *ncols* columns.\n",
       "      *index* starts at 1 in the upper left corner and increases to the\n",
       "      right. *index* can also be a two-tuple specifying the (*first*,\n",
       "      *last*) indices (1-based, and including *last*) of the subplot, e.g.,\n",
       "      ``fig.add_subplot(3, 1, (1, 2))`` makes a subplot that spans the\n",
       "      upper 2/3 of the figure.\n",
       "    - A 3-digit integer. The digits are interpreted as if given separately\n",
       "      as three single-digit integers, i.e. ``fig.add_subplot(235)`` is the\n",
       "      same as ``fig.add_subplot(2, 3, 5)``. Note that this can only be used\n",
       "      if there are no more than 9 subplots.\n",
       "    - A `.SubplotSpec`.\n",
       "\n",
       "projection : {None, 'aitoff', 'hammer', 'lambert', 'mollweide', 'polar', 'rectilinear', str}, optional\n",
       "    The projection type of the subplot (`~.axes.Axes`). *str* is the name\n",
       "    of a custom projection, see `~matplotlib.projections`. The default\n",
       "    None results in a 'rectilinear' projection.\n",
       "\n",
       "polar : bool, default: False\n",
       "    If True, equivalent to projection='polar'.\n",
       "\n",
       "sharex, sharey : `~.axes.Axes`, optional\n",
       "    Share the x or y `~matplotlib.axis` with sharex and/or sharey. The\n",
       "    axis will have the same limits, ticks, and scale as the axis of the\n",
       "    shared axes.\n",
       "\n",
       "label : str\n",
       "    A label for the returned axes.\n",
       "\n",
       "Returns\n",
       "-------\n",
       "`.axes.SubplotBase`, or another subclass of `~.axes.Axes`\n",
       "\n",
       "    The axes of the subplot. The returned axes base class depends on\n",
       "    the projection used. It is `~.axes.Axes` if rectilinear projection\n",
       "    is used and `.projections.polar.PolarAxes` if polar projection\n",
       "    is used. The returned axes is then a subplot subclass of the\n",
       "    base class.\n",
       "\n",
       "Other Parameters\n",
       "----------------\n",
       "**kwargs\n",
       "    This method also takes the keyword arguments for the returned axes\n",
       "    base class; except for the *figure* argument. The keyword arguments\n",
       "    for the rectilinear base class `~.axes.Axes` can be found in\n",
       "    the following table but there might also be other keyword\n",
       "    arguments if another projection is used.\n",
       "\n",
       "    Properties:\n",
       "    adjustable: {'box', 'datalim'}\n",
       "    agg_filter: a filter function, which takes a (m, n, 3) float array and a dpi value, and returns a (m, n, 3) array\n",
       "    alpha: float or None\n",
       "    anchor: 2-tuple of floats or {'C', 'SW', 'S', 'SE', ...}\n",
       "    animated: bool\n",
       "    aspect: {'auto'} or num\n",
       "    autoscale_on: bool\n",
       "    autoscalex_on: bool\n",
       "    autoscaley_on: bool\n",
       "    axes_locator: Callable[[Axes, Renderer], Bbox]\n",
       "    axisbelow: bool or 'line'\n",
       "    box_aspect: None, or a number\n",
       "    clip_box: `.Bbox`\n",
       "    clip_on: bool\n",
       "    clip_path: Patch or (Path, Transform) or None\n",
       "    contains: unknown\n",
       "    facecolor or fc: color\n",
       "    figure: `.Figure`\n",
       "    frame_on: bool\n",
       "    gid: str\n",
       "    in_layout: bool\n",
       "    label: object\n",
       "    navigate: bool\n",
       "    navigate_mode: unknown\n",
       "    path_effects: `.AbstractPathEffect`\n",
       "    picker: None or bool or callable\n",
       "    position: [left, bottom, width, height] or `~matplotlib.transforms.Bbox`\n",
       "    prop_cycle: unknown\n",
       "    rasterization_zorder: float or None\n",
       "    rasterized: bool or None\n",
       "    sketch_params: (scale: float, length: float, randomness: float)\n",
       "    snap: bool or None\n",
       "    title: str\n",
       "    transform: `.Transform`\n",
       "    url: str\n",
       "    visible: bool\n",
       "    xbound: unknown\n",
       "    xlabel: str\n",
       "    xlim: (bottom: float, top: float)\n",
       "    xmargin: float greater than -0.5\n",
       "    xscale: {\"linear\", \"log\", \"symlog\", \"logit\", ...}\n",
       "    xticklabels: unknown\n",
       "    xticks: unknown\n",
       "    ybound: unknown\n",
       "    ylabel: str\n",
       "    ylim: (bottom: float, top: float)\n",
       "    ymargin: float greater than -0.5\n",
       "    yscale: {\"linear\", \"log\", \"symlog\", \"logit\", ...}\n",
       "    yticklabels: unknown\n",
       "    yticks: unknown\n",
       "    zorder: float\n",
       "\n",
       "Notes\n",
       "-----\n",
       "Creating a subplot will delete any pre-existing subplot that overlaps\n",
       "with it beyond sharing a boundary::\n",
       "\n",
       "    import matplotlib.pyplot as plt\n",
       "    # plot a line, implicitly creating a subplot(111)\n",
       "    plt.plot([1, 2, 3])\n",
       "    # now create a subplot which represents the top plot of a grid\n",
       "    # with 2 rows and 1 column. Since this subplot will overlap the\n",
       "    # first, the plot (and its axes) previously created, will be removed\n",
       "    plt.subplot(211)\n",
       "\n",
       "If you do not want this behavior, use the `.Figure.add_subplot` method\n",
       "or the `.pyplot.axes` function instead.\n",
       "\n",
       "If the figure already has a subplot with key (*args*,\n",
       "*kwargs*) then it will simply make that subplot current and\n",
       "return it.  This behavior is deprecated. Meanwhile, if you do\n",
       "not want this behavior (i.e., you want to force the creation of a\n",
       "new subplot), you must use a unique set of args and kwargs.  The axes\n",
       "*label* attribute has been exposed for this purpose: if you want\n",
       "two subplots that are otherwise identical to be added to the figure,\n",
       "make sure you give them unique labels.\n",
       "\n",
       "In rare circumstances, `.add_subplot` may be called with a single\n",
       "argument, a subplot axes instance already created in the\n",
       "present figure but not in the figure's list of axes.\n",
       "\n",
       "See Also\n",
       "--------\n",
       ".Figure.add_subplot\n",
       ".pyplot.subplots\n",
       ".pyplot.axes\n",
       ".Figure.subplots\n",
       "\n",
       "Examples\n",
       "--------\n",
       "::\n",
       "\n",
       "    plt.subplot(221)\n",
       "\n",
       "    # equivalent but more general\n",
       "    ax1=plt.subplot(2, 2, 1)\n",
       "\n",
       "    # add a subplot with no frame\n",
       "    ax2=plt.subplot(222, frameon=False)\n",
       "\n",
       "    # add a polar subplot\n",
       "    plt.subplot(223, projection='polar')\n",
       "\n",
       "    # add a red subplot that shares the x-axis with ax1\n",
       "    plt.subplot(224, sharex=ax1, facecolor='red')\n",
       "\n",
       "    # delete ax2 from the figure\n",
       "    plt.delaxes(ax2)\n",
       "\n",
       "    # add ax2 to the figure again\n",
       "    plt.subplot(ax2)\n",
       "\u001b[1;31mFile:\u001b[0m      c:\\users\\lfu163986\\appdata\\local\\programs\\python\\python38\\lib\\site-packages\\matplotlib\\pyplot.py\n",
       "\u001b[1;31mType:\u001b[0m      function\n"
      ]
     },
     "metadata": {},
     "output_type": "display_data"
    }
   ],
   "source": [
    "%matplotlib notebook\n",
    "%matplotlib inline\n",
    "\n",
    "import matplotlib.pyplot as plt\n",
    "import numpy as np\n",
    "\n",
    "plt.subplot?"
   ]
  },
  {
   "cell_type": "code",
   "execution_count": 8,
   "metadata": {
    "collapsed": false,
    "jupyter": {
     "outputs_hidden": false
    }
   },
   "outputs": [
    {
     "data": {
      "text/plain": [
       "[<matplotlib.lines.Line2D at 0x213304f8f40>]"
      ]
     },
     "execution_count": 8,
     "metadata": {},
     "output_type": "execute_result"
    },
    {
     "data": {
      "image/png": "[encoded data removed]",
      "text/plain": [
       "<Figure size 432x288 with 1 Axes>"
      ]
     },
     "metadata": {
      "needs_background": "light"
     },
     "output_type": "display_data"
    }
   ],
   "source": [
    "plt.figure()\n",
    "# subplot with 1 row, 2 columns, and current axis is 1st subplot axes\n",
    "plt.subplot(1, 2, 1)\n",
    "\n",
    "linear_data = np.array([1,2,3,4,5,6,7,8])\n",
    "\n",
    "plt.plot(linear_data, '-o')"
   ]
  },
  {
   "cell_type": "code",
   "execution_count": 9,
   "metadata": {
    "collapsed": false,
    "jupyter": {
     "outputs_hidden": false
    }
   },
   "outputs": [
    {
     "data": {
      "text/plain": [
       "[<matplotlib.lines.Line2D at 0x213305c7640>]"
      ]
     },
     "execution_count": 9,
     "metadata": {},
     "output_type": "execute_result"
    },
    {
     "data": {
      "image/png": "[encoded data removed]",
      "text/plain": [
       "<Figure size 432x288 with 1 Axes>"
      ]
     },
     "metadata": {
      "needs_background": "light"
     },
     "output_type": "display_data"
    }
   ],
   "source": [
    "exponential_data = linear_data**2 \n",
    "\n",
    "# subplot with 1 row, 2 columns, and current axis is 2nd subplot axes\n",
    "plt.subplot(1, 2, 2)\n",
    "plt.plot(exponential_data, '-o')"
   ]
  },
  {
   "cell_type": "code",
   "execution_count": 10,
   "metadata": {
    "collapsed": false,
    "jupyter": {
     "outputs_hidden": false
    }
   },
   "outputs": [
    {
     "data": {
      "text/plain": [
       "[<matplotlib.lines.Line2D at 0x2133061f7f0>]"
      ]
     },
     "execution_count": 10,
     "metadata": {},
     "output_type": "execute_result"
    },
    {
     "data": {
      "image/png": "[encoded data removed]",
      "text/plain": [
       "<Figure size 432x288 with 1 Axes>"
      ]
     },
     "metadata": {
      "needs_background": "light"
     },
     "output_type": "display_data"
    }
   ],
   "source": [
    "# plot exponential data on 1st subplot axes\n",
    "plt.subplot(1, 2, 1)\n",
    "plt.plot(exponential_data, '-x')"
   ]
  },
  {
   "cell_type": "code",
   "execution_count": 11,
   "metadata": {
    "collapsed": false,
    "jupyter": {
     "outputs_hidden": false
    }
   },
   "outputs": [
    {
     "data": {
      "text/plain": [
       "[<matplotlib.lines.Line2D at 0x213306a6e50>]"
      ]
     },
     "execution_count": 11,
     "metadata": {},
     "output_type": "execute_result"
    },
    {
     "data": {
      "image/png": "[encoded data removed]",
      "text/plain": [
       "<Figure size 432x288 with 2 Axes>"
      ]
     },
     "metadata": {
      "needs_background": "light"
     },
     "output_type": "display_data"
    }
   ],
   "source": [
    "plt.figure()\n",
    "ax1 = plt.subplot(1, 2, 1)\n",
    "plt.plot(linear_data, '-o')\n",
    "# pass sharey=ax1 to ensure the two subplots share the same y axis\n",
    "ax2 = plt.subplot(1, 2, 2, sharey=ax1)\n",
    "plt.plot(exponential_data, '-x')"
   ]
  },
  {
   "cell_type": "code",
   "execution_count": 13,
   "metadata": {
    "collapsed": false,
    "jupyter": {
     "outputs_hidden": false
    }
   },
   "outputs": [
    {
     "name": "stderr",
     "output_type": "stream",
     "text": [
      "<ipython-input-13-2c808a67d888>:3: MatplotlibDeprecationWarning: Adding an axes using the same arguments as a previous axes currently reuses the earlier instance.  In a future version, a new instance will always be created and returned.  Meanwhile, this warning can be suppressed, and the future behavior ensured, by passing a unique label to each axes instance.\n",
      "  plt.subplot(1,2,1) == plt.subplot(121)\n"
     ]
    },
    {
     "data": {
      "text/plain": [
       "True"
      ]
     },
     "execution_count": 13,
     "metadata": {},
     "output_type": "execute_result"
    },
    {
     "data": {
      "image/png": "[encoded data removed]",
      "text/plain": [
       "<Figure size 432x288 with 1 Axes>"
      ]
     },
     "metadata": {
      "needs_background": "light"
     },
     "output_type": "display_data"
    }
   ],
   "source": [
    "plt.figure()\n",
    "# the right hand side is equivalent shorthand syntax\n",
    "plt.subplot(1,2,1) == plt.subplot(121)"
   ]
  },
  {
   "cell_type": "code",
   "execution_count": 12,
   "metadata": {
    "collapsed": false,
    "jupyter": {
     "outputs_hidden": false
    }
   },
   "outputs": [
    {
     "data": {
      "text/plain": [
       "[<matplotlib.lines.Line2D at 0x213307b8f10>]"
      ]
     },
     "execution_count": 12,
     "metadata": {},
     "output_type": "execute_result"
    },
    {
     "data": {
      "image/png": "[encoded data removed]",
      "text/plain": [
       "<Figure size 432x288 with 9 Axes>"
      ]
     },
     "metadata": {
      "needs_background": "light"
     },
     "output_type": "display_data"
    }
   ],
   "source": [
    "# create a 3x3 grid of subplots\n",
    "fig, ((ax1,ax2,ax3), (ax4,ax5,ax6), (ax7,ax8,ax9)) = plt.subplots(3, 3, sharex=True, sharey=True)\n",
    "# plot the linear_data on the 5th subplot axes \n",
    "ax5.plot(linear_data, '-')"
   ]
  },
  {
   "cell_type": "code",
   "execution_count": 14,
   "metadata": {
    "collapsed": false,
    "jupyter": {
     "outputs_hidden": false
    }
   },
   "outputs": [
    {
     "data": {
      "text/plain": [
       "<Figure size 432x288 with 0 Axes>"
      ]
     },
     "metadata": {},
     "output_type": "display_data"
    }
   ],
   "source": [
    "# set inside tick labels to visible\n",
    "for ax in plt.gcf().get_axes():\n",
    "    for label in ax.get_xticklabels() + ax.get_yticklabels():\n",
    "        label.set_visible(True)"
   ]
  },
  {
   "cell_type": "code",
   "execution_count": 15,
   "metadata": {},
   "outputs": [
    {
     "data": {
      "text/plain": [
       "<Figure size 432x288 with 0 Axes>"
      ]
     },
     "metadata": {},
     "output_type": "display_data"
    }
   ],
   "source": [
    "# necessary on some systems to update the plot\n",
    "plt.gcf().canvas.draw()"
   ]
  },
  {
   "cell_type": "markdown",
   "metadata": {},
   "source": [
    "# Histograms"
   ]
  },
  {
   "cell_type": "code",
   "execution_count": 16,
   "metadata": {
    "collapsed": false,
    "jupyter": {
     "outputs_hidden": false
    }
   },
   "outputs": [
    {
     "data": {
      "image/png": "[encoded data removed]",
      "text/plain": [
       "<Figure size 432x288 with 4 Axes>"
      ]
     },
     "metadata": {
      "needs_background": "light"
     },
     "output_type": "display_data"
    }
   ],
   "source": [
    "# create 2x2 grid of axis subplots\n",
    "fig, ((ax1, ax2), (ax3, ax4)) = plt.subplots(2, 2, sharex=True)\n",
    "axs = [ax1,ax2,ax3,ax4]\n",
    "\n",
    "# draw n = 10, 100, 1000, and 10000 samples from the normal distribution and plot corresponding histograms\n",
    "for n in range(0,len(axs)):\n",
    "    sample_size = 10**(n+1)\n",
    "    sample = np.random.normal(loc=0.0, scale=1.0, size=sample_size)\n",
    "    axs[n].hist(sample)\n",
    "    axs[n].set_title('n={}'.format(sample_size))"
   ]
  },
  {
   "cell_type": "code",
   "execution_count": null,
   "metadata": {
    "collapsed": false,
    "jupyter": {
     "outputs_hidden": false
    }
   },
   "outputs": [],
   "source": [
    "# repeat with number of bins set to 100\n",
    "fig, ((ax1, ax2), (ax3, ax4)) = plt.subplots(2, 2, sharex=True)\n",
    "axs = [ax1,ax2,ax3,ax4]\n",
    "\n",
    "for n in range(0,len(axs)):\n",
    "    sample_size = 10**(n+1)\n",
    "    sample = np.random.normal(loc=0.0, scale=1.0, size=sample_size)\n",
    "    axs[n].hist(sample, bins=100)\n",
    "    axs[n].set_title('n={}'.format(sample_size))"
   ]
  },
  {
   "cell_type": "code",
   "execution_count": null,
   "metadata": {
    "collapsed": false,
    "jupyter": {
     "outputs_hidden": false
    }
   },
   "outputs": [],
   "source": [
    "plt.figure()\n",
    "Y = np.random.normal(loc=0.0, scale=1.0, size=10000)\n",
    "X = np.random.random(size=10000)\n",
    "plt.scatter(X,Y)"
   ]
  },
  {
   "cell_type": "code",
   "execution_count": null,
   "metadata": {
    "collapsed": false,
    "jupyter": {
     "outputs_hidden": false
    }
   },
   "outputs": [],
   "source": [
    "# use gridspec to partition the figure into subplots\n",
    "import matplotlib.gridspec as gridspec\n",
    "\n",
    "plt.figure()\n",
    "gspec = gridspec.GridSpec(3, 3)\n",
    "\n",
    "top_histogram = plt.subplot(gspec[0, 1:])\n",
    "side_histogram = plt.subplot(gspec[1:, 0])\n",
    "lower_right = plt.subplot(gspec[1:, 1:])"
   ]
  },
  {
   "cell_type": "code",
   "execution_count": null,
   "metadata": {
    "collapsed": false,
    "jupyter": {
     "outputs_hidden": false
    }
   },
   "outputs": [],
   "source": [
    "Y = np.random.normal(loc=0.0, scale=1.0, size=10000)\n",
    "X = np.random.random(size=10000)\n",
    "lower_right.scatter(X, Y)\n",
    "top_histogram.hist(X, bins=100)\n",
    "s = side_histogram.hist(Y, bins=100, orientation='horizontal')"
   ]
  },
  {
   "cell_type": "code",
   "execution_count": null,
   "metadata": {
    "collapsed": true,
    "jupyter": {
     "outputs_hidden": true
    }
   },
   "outputs": [],
   "source": [
    "# clear the histograms and plot normed histograms\n",
    "top_histogram.clear()\n",
    "top_histogram.hist(X, bins=100, normed=True)\n",
    "side_histogram.clear()\n",
    "side_histogram.hist(Y, bins=100, orientation='horizontal', normed=True)\n",
    "# flip the side histogram's x axis\n",
    "side_histogram.invert_xaxis()"
   ]
  },
  {
   "cell_type": "code",
   "execution_count": null,
   "metadata": {
    "collapsed": false,
    "jupyter": {
     "outputs_hidden": false
    }
   },
   "outputs": [],
   "source": [
    "# change axes limits\n",
    "for ax in [top_histogram, lower_right]:\n",
    "    ax.set_xlim(0, 1)\n",
    "for ax in [side_histogram, lower_right]:\n",
    "    ax.set_ylim(-5, 5)"
   ]
  },
  {
   "cell_type": "markdown",
   "metadata": {},
   "source": [
    "![MOOC DATA](moocdata.png \"Image\")"
   ]
  },
  {
   "cell_type": "markdown",
   "metadata": {},
   "source": [
    "# Box and Whisker Plots"
   ]
  },
  {
   "cell_type": "code",
   "execution_count": null,
   "metadata": {
    "collapsed": false,
    "jupyter": {
     "outputs_hidden": false
    }
   },
   "outputs": [],
   "source": [
    "import pandas as pd\n",
    "normal_sample = np.random.normal(loc=0.0, scale=1.0, size=10000)\n",
    "random_sample = np.random.random(size=10000)\n",
    "gamma_sample = np.random.gamma(2, size=10000)\n",
    "\n",
    "df = pd.DataFrame({'normal': normal_sample, \n",
    "                   'random': random_sample, \n",
    "                   'gamma': gamma_sample})"
   ]
  },
  {
   "cell_type": "code",
   "execution_count": null,
   "metadata": {
    "collapsed": false,
    "jupyter": {
     "outputs_hidden": false
    }
   },
   "outputs": [],
   "source": [
    "df.describe()"
   ]
  },
  {
   "cell_type": "code",
   "execution_count": null,
   "metadata": {
    "collapsed": false,
    "jupyter": {
     "outputs_hidden": false
    }
   },
   "outputs": [],
   "source": [
    "plt.figure()\n",
    "# create a boxplot of the normal data, assign the output to a variable to supress output\n",
    "_ = plt.boxplot(df['normal'], whis='range')"
   ]
  },
  {
   "cell_type": "code",
   "execution_count": null,
   "metadata": {
    "collapsed": false,
    "jupyter": {
     "outputs_hidden": false
    }
   },
   "outputs": [],
   "source": [
    "# clear the current figure\n",
    "plt.clf()\n",
    "# plot boxplots for all three of df's columns\n",
    "_ = plt.boxplot([ df['normal'], df['random'], df['gamma'] ], whis='range')"
   ]
  },
  {
   "cell_type": "code",
   "execution_count": null,
   "metadata": {
    "collapsed": false,
    "jupyter": {
     "outputs_hidden": false
    }
   },
   "outputs": [],
   "source": [
    "plt.figure()\n",
    "_ = plt.hist(df['gamma'], bins=100)"
   ]
  },
  {
   "cell_type": "code",
   "execution_count": null,
   "metadata": {
    "collapsed": false,
    "jupyter": {
     "outputs_hidden": false
    }
   },
   "outputs": [],
   "source": [
    "import mpl_toolkits.axes_grid1.inset_locator as mpl_il\n",
    "\n",
    "plt.figure()\n",
    "plt.boxplot([ df['normal'], df['random'], df['gamma'] ], whis='range')\n",
    "# overlay axis on top of another \n",
    "ax2 = mpl_il.inset_axes(plt.gca(), width='60%', height='40%', loc=2)\n",
    "ax2.hist(df['gamma'], bins=100)\n",
    "ax2.margins(x=0.5)"
   ]
  },
  {
   "cell_type": "code",
   "execution_count": null,
   "metadata": {
    "collapsed": true,
    "jupyter": {
     "outputs_hidden": true
    }
   },
   "outputs": [],
   "source": [
    "# switch the y axis ticks for ax2 to the right side\n",
    "ax2.yaxis.tick_right()"
   ]
  },
  {
   "cell_type": "code",
   "execution_count": null,
   "metadata": {
    "collapsed": false,
    "jupyter": {
     "outputs_hidden": false
    }
   },
   "outputs": [],
   "source": [
    "# if `whis` argument isn't passed, boxplot defaults to showing 1.5*interquartile (IQR) whiskers with outliers\n",
    "plt.figure()\n",
    "_ = plt.boxplot([ df['normal'], df['random'], df['gamma'] ] )"
   ]
  },
  {
   "cell_type": "markdown",
   "metadata": {},
   "source": [
    "# Heatmaps"
   ]
  },
  {
   "cell_type": "code",
   "execution_count": null,
   "metadata": {
    "collapsed": false,
    "jupyter": {
     "outputs_hidden": false
    }
   },
   "outputs": [],
   "source": [
    "plt.figure()\n",
    "\n",
    "Y = np.random.normal(loc=0.0, scale=1.0, size=10000)\n",
    "X = np.random.random(size=10000)\n",
    "_ = plt.hist2d(X, Y, bins=25)"
   ]
  },
  {
   "cell_type": "code",
   "execution_count": null,
   "metadata": {
    "collapsed": false,
    "jupyter": {
     "outputs_hidden": false
    }
   },
   "outputs": [],
   "source": [
    "plt.figure()\n",
    "_ = plt.hist2d(X, Y, bins=100)"
   ]
  },
  {
   "cell_type": "code",
   "execution_count": null,
   "metadata": {
    "collapsed": false,
    "jupyter": {
     "outputs_hidden": false
    }
   },
   "outputs": [],
   "source": [
    "# add a colorbar legend\n",
    "plt.colorbar()"
   ]
  },
  {
   "cell_type": "markdown",
   "metadata": {},
   "source": [
    "# Animations"
   ]
  },
  {
   "cell_type": "code",
   "execution_count": null,
   "metadata": {
    "collapsed": true,
    "jupyter": {
     "outputs_hidden": true
    }
   },
   "outputs": [],
   "source": [
    "import matplotlib.animation as animation\n",
    "\n",
    "n = 100\n",
    "x = np.random.randn(n)"
   ]
  },
  {
   "cell_type": "code",
   "execution_count": null,
   "metadata": {
    "collapsed": false,
    "jupyter": {
     "outputs_hidden": false
    }
   },
   "outputs": [],
   "source": [
    "# create the function that will do the plotting, where curr is the current frame\n",
    "def update(curr):\n",
    "    # check if animation is at the last frame, and if so, stop the animation a\n",
    "    if curr == n: \n",
    "        a.event_source.stop()\n",
    "    plt.cla()\n",
    "    bins = np.arange(-4, 4, 0.5)\n",
    "    plt.hist(x[:curr], bins=bins)\n",
    "    plt.axis([-4,4,0,30])\n",
    "    plt.gca().set_title('Sampling the Normal Distribution')\n",
    "    plt.gca().set_ylabel('Frequency')\n",
    "    plt.gca().set_xlabel('Value')\n",
    "    plt.annotate('n = {}'.format(curr), [3,27])"
   ]
  },
  {
   "cell_type": "code",
   "execution_count": null,
   "metadata": {
    "collapsed": false,
    "jupyter": {
     "outputs_hidden": false
    }
   },
   "outputs": [],
   "source": [
    "fig = plt.figure()\n",
    "a = animation.FuncAnimation(fig, update, interval=100)"
   ]
  },
  {
   "cell_type": "markdown",
   "metadata": {},
   "source": [
    "# Interactivity"
   ]
  },
  {
   "cell_type": "code",
   "execution_count": null,
   "metadata": {
    "collapsed": false,
    "jupyter": {
     "outputs_hidden": false
    }
   },
   "outputs": [],
   "source": [
    "plt.figure()\n",
    "data = np.random.rand(10)\n",
    "plt.plot(data)\n",
    "\n",
    "def onclick(event):\n",
    "    plt.cla()\n",
    "    plt.plot(data)\n",
    "    plt.gca().set_title('Event at pixels {},{} \\nand data {},{}'.format(event.x, event.y, event.xdata, event.ydata))\n",
    "\n",
    "# tell mpl_connect we want to pass a 'button_press_event' into onclick when the event is detected\n",
    "plt.gcf().canvas.mpl_connect('button_press_event', onclick)"
   ]
  },
  {
   "cell_type": "code",
   "execution_count": null,
   "metadata": {
    "collapsed": false,
    "jupyter": {
     "outputs_hidden": false
    }
   },
   "outputs": [],
   "source": [
    "from random import shuffle\n",
    "origins = ['China', 'Brazil', 'India', 'USA', 'Canada', 'UK', 'Germany', 'Iraq', 'Chile', 'Mexico']\n",
    "\n",
    "shuffle(origins)\n",
    "\n",
    "df = pd.DataFrame({'height': np.random.rand(10),\n",
    "                   'weight': np.random.rand(10),\n",
    "                   'origin': origins})\n",
    "df"
   ]
  },
  {
   "cell_type": "code",
   "execution_count": null,
   "metadata": {
    "collapsed": false,
    "jupyter": {
     "outputs_hidden": false
    }
   },
   "outputs": [],
   "source": [
    "plt.figure()\n",
    "# picker=5 means the mouse doesn't have to click directly on an event, but can be up to 5 pixels away\n",
    "plt.scatter(df['height'], df['weight'], picker=5)\n",
    "plt.gca().set_ylabel('Weight')\n",
    "plt.gca().set_xlabel('Height')"
   ]
  },
  {
   "cell_type": "code",
   "execution_count": null,
   "metadata": {
    "collapsed": false,
    "jupyter": {
     "outputs_hidden": false
    }
   },
   "outputs": [],
   "source": [
    "def onpick(event):\n",
    "    origin = df.iloc[event.ind[0]]['origin']\n",
    "    plt.gca().set_title('Selected item came from {}'.format(origin))\n",
    "\n",
    "# tell mpl_connect we want to pass a 'pick_event' into onpick when the event is detected\n",
    "plt.gcf().canvas.mpl_connect('pick_event', onpick)"
   ]
  }
 ],
 "metadata": {
  "kernelspec": {
   "display_name": "Python 3",
   "language": "python",
   "name": "python3"
  },
  "language_info": {
   "codemirror_mode": {
    "name": "ipython",
    "version": 3
   },
   "file_extension": ".py",
   "mimetype": "text/x-python",
   "name": "python",
   "nbconvert_exporter": "python",
   "pygments_lexer": "ipython3",
   "version": "3.8.3"
  }
 },
 "nbformat": 4,
 "nbformat_minor": 4
}
